{
  "cells": [
    {
      "cell_type": "markdown",
      "metadata": {
        "id": "view-in-github",
        "colab_type": "text"
      },
      "source": [
        "<a href=\"https://colab.research.google.com/github/FabioAntonioSiqueira/lia1_2024_1/blob/main/Entregas%20-%20F%C3%A1bio%20Siqueira/PRE%C3%87O_DE_MEDICAMENTOS_NO_BRASIL.ipynb\" target=\"_parent\"><img src=\"https://colab.research.google.com/assets/colab-badge.svg\" alt=\"Open In Colab\"/></a>"
      ]
    },
    {
      "cell_type": "markdown",
      "id": "b061b4ec",
      "metadata": {
        "id": "b061b4ec"
      },
      "source": [
        "## **Ciência de Dados - PREÇO DE MEDICAMENTOS NO BRASIL**\n",
        "\n",
        "O seguinte dataset refere-se aos preço de medicamentos no Brasil. Este dataset Contém 1.449 registros e 32 colunas."
      ]
    },
    {
      "cell_type": "code",
      "execution_count": 155,
      "id": "b4db14f6",
      "metadata": {
        "id": "b4db14f6"
      },
      "outputs": [],
      "source": [
        "# Imports\n",
        "import numpy as np\n",
        "import pandas as pd\n",
        "import matplotlib.pyplot as plt\n",
        "import seaborn as sns\n",
        "import datetime as dt"
      ]
    },
    {
      "cell_type": "markdown",
      "id": "cba483b3",
      "metadata": {
        "id": "cba483b3"
      },
      "source": [
        "**Carregando os dados**"
      ]
    },
    {
      "cell_type": "code",
      "execution_count": 156,
      "id": "9e9a2f84",
      "metadata": {
        "id": "9e9a2f84"
      },
      "outputs": [],
      "source": [
        "# Carrega o dataset\n",
        "df = pd.read_csv('/content/PRECO_MEDICAMENTOS.csv', encoding='latin1')\n"
      ]
    },
    {
      "cell_type": "code",
      "execution_count": 157,
      "id": "b2057c0d",
      "metadata": {
        "colab": {
          "base_uri": "https://localhost:8080/"
        },
        "id": "b2057c0d",
        "outputId": "9616ff65-8bf2-4abc-a692-f26baf182c07"
      },
      "outputs": [
        {
          "output_type": "execute_result",
          "data": {
            "text/plain": [
              "(1449, 32)"
            ]
          },
          "metadata": {},
          "execution_count": 157
        }
      ],
      "source": [
        "# Shape\n",
        "df.shape"
      ]
    },
    {
      "cell_type": "code",
      "execution_count": 158,
      "id": "d2814227",
      "metadata": {
        "scrolled": true,
        "colab": {
          "base_uri": "https://localhost:8080/",
          "height": 377
        },
        "id": "d2814227",
        "outputId": "fbf50da7-c86f-493a-ed81-18a6cecc92a5"
      },
      "outputs": [
        {
          "output_type": "execute_result",
          "data": {
            "text/plain": [
              "                   ï»¿SUBSTÃNCIA      AL        BA         DF        GO   \\\n",
              "0                    ACEBROFILINA     39.10     39.10     38.14     35.53   \n",
              "1                    ACECLOFENACO     49.06     44.11     47.74     40.10   \n",
              "2  ACEPONATO DE METILPREDNISOLONA     83.63     75.19     81.35     68.35   \n",
              "3          ACETATO DE ABIRATERONA  19313.96  17363.46  18788.49  15784.96   \n",
              "4         ACETATO DE BAZEDOXIFENO    111.62    100.35    108.58     91.23   \n",
              "\n",
              "        MG        MS        MT        PA        PR   ...        MA   \\\n",
              "0     38.61     37.67     37.67     39.33     39.58  ...      37.67   \n",
              "1     48.39     42.52     47.09     49.41     49.77  ...      42.52   \n",
              "2     82.48     72.47     80.27     84.22     84.82  ...      72.47   \n",
              "3  19047.58  16735.86  18536.44  19449.95  19587.89  ...   16735.86   \n",
              "4    110.09     96.73    107.13    112.40    113.20  ...      96.73   \n",
              "\n",
              "         RJ         TO   RESTRIÃÃO HOSPITALAR   CAP  CONFAZ 87  ICMS 0%  \\\n",
              "0      39.33      40.09                    NÃ£o  NÃ£o       NÃ£o     NÃ£o   \n",
              "1      49.41      45.25                    NÃ£o  NÃ£o       NÃ£o     NÃ£o   \n",
              "2      84.22      77.11                    NÃ£o  NÃ£o       NÃ£o     NÃ£o   \n",
              "3   19449.95   17808.66                    NÃ£o   Sim       NÃ£o     NÃ£o   \n",
              "4     112.40     102.92                    NÃ£o  NÃ£o       NÃ£o     NÃ£o   \n",
              "\n",
              "   LISTA DE CONCESSÃO DE CRÃDITO TRIBUTÃRIO (PIS/COFINS)  \\\n",
              "0                                           Positiva          \n",
              "1                                           Negativa          \n",
              "2                                           Negativa          \n",
              "3                                           Negativa          \n",
              "4                                           Negativa          \n",
              "\n",
              "   COMERCIALIZAÃÃO 2022           TARJA  \n",
              "0                     Sim          '- (*)  \n",
              "1                     Sim          '- (*)  \n",
              "2                    NÃ£o  Tarja Vermelha  \n",
              "3                     Sim  Tarja Vermelha  \n",
              "4                    NÃ£o          '- (*)  \n",
              "\n",
              "[5 rows x 32 columns]"
            ],
            "text/html": [
              "\n",
              "  <div id=\"df-f3e11ee5-662a-4a5c-9834-f336cebfbc65\" class=\"colab-df-container\">\n",
              "    <div>\n",
              "<style scoped>\n",
              "    .dataframe tbody tr th:only-of-type {\n",
              "        vertical-align: middle;\n",
              "    }\n",
              "\n",
              "    .dataframe tbody tr th {\n",
              "        vertical-align: top;\n",
              "    }\n",
              "\n",
              "    .dataframe thead th {\n",
              "        text-align: right;\n",
              "    }\n",
              "</style>\n",
              "<table border=\"1\" class=\"dataframe\">\n",
              "  <thead>\n",
              "    <tr style=\"text-align: right;\">\n",
              "      <th></th>\n",
              "      <th>ï»¿SUBSTÃNCIA</th>\n",
              "      <th>AL</th>\n",
              "      <th>BA</th>\n",
              "      <th>DF</th>\n",
              "      <th>GO</th>\n",
              "      <th>MG</th>\n",
              "      <th>MS</th>\n",
              "      <th>MT</th>\n",
              "      <th>PA</th>\n",
              "      <th>PR</th>\n",
              "      <th>...</th>\n",
              "      <th>MA</th>\n",
              "      <th>RJ</th>\n",
              "      <th>TO</th>\n",
              "      <th>RESTRIÃÃO HOSPITALAR</th>\n",
              "      <th>CAP</th>\n",
              "      <th>CONFAZ 87</th>\n",
              "      <th>ICMS 0%</th>\n",
              "      <th>LISTA DE CONCESSÃO DE CRÃDITO TRIBUTÃRIO (PIS/COFINS)</th>\n",
              "      <th>COMERCIALIZAÃÃO 2022</th>\n",
              "      <th>TARJA</th>\n",
              "    </tr>\n",
              "  </thead>\n",
              "  <tbody>\n",
              "    <tr>\n",
              "      <th>0</th>\n",
              "      <td>ACEBROFILINA</td>\n",
              "      <td>39.10</td>\n",
              "      <td>39.10</td>\n",
              "      <td>38.14</td>\n",
              "      <td>35.53</td>\n",
              "      <td>38.61</td>\n",
              "      <td>37.67</td>\n",
              "      <td>37.67</td>\n",
              "      <td>39.33</td>\n",
              "      <td>39.58</td>\n",
              "      <td>...</td>\n",
              "      <td>37.67</td>\n",
              "      <td>39.33</td>\n",
              "      <td>40.09</td>\n",
              "      <td>NÃ£o</td>\n",
              "      <td>NÃ£o</td>\n",
              "      <td>NÃ£o</td>\n",
              "      <td>NÃ£o</td>\n",
              "      <td>Positiva</td>\n",
              "      <td>Sim</td>\n",
              "      <td>'- (*)</td>\n",
              "    </tr>\n",
              "    <tr>\n",
              "      <th>1</th>\n",
              "      <td>ACECLOFENACO</td>\n",
              "      <td>49.06</td>\n",
              "      <td>44.11</td>\n",
              "      <td>47.74</td>\n",
              "      <td>40.10</td>\n",
              "      <td>48.39</td>\n",
              "      <td>42.52</td>\n",
              "      <td>47.09</td>\n",
              "      <td>49.41</td>\n",
              "      <td>49.77</td>\n",
              "      <td>...</td>\n",
              "      <td>42.52</td>\n",
              "      <td>49.41</td>\n",
              "      <td>45.25</td>\n",
              "      <td>NÃ£o</td>\n",
              "      <td>NÃ£o</td>\n",
              "      <td>NÃ£o</td>\n",
              "      <td>NÃ£o</td>\n",
              "      <td>Negativa</td>\n",
              "      <td>Sim</td>\n",
              "      <td>'- (*)</td>\n",
              "    </tr>\n",
              "    <tr>\n",
              "      <th>2</th>\n",
              "      <td>ACEPONATO DE METILPREDNISOLONA</td>\n",
              "      <td>83.63</td>\n",
              "      <td>75.19</td>\n",
              "      <td>81.35</td>\n",
              "      <td>68.35</td>\n",
              "      <td>82.48</td>\n",
              "      <td>72.47</td>\n",
              "      <td>80.27</td>\n",
              "      <td>84.22</td>\n",
              "      <td>84.82</td>\n",
              "      <td>...</td>\n",
              "      <td>72.47</td>\n",
              "      <td>84.22</td>\n",
              "      <td>77.11</td>\n",
              "      <td>NÃ£o</td>\n",
              "      <td>NÃ£o</td>\n",
              "      <td>NÃ£o</td>\n",
              "      <td>NÃ£o</td>\n",
              "      <td>Negativa</td>\n",
              "      <td>NÃ£o</td>\n",
              "      <td>Tarja Vermelha</td>\n",
              "    </tr>\n",
              "    <tr>\n",
              "      <th>3</th>\n",
              "      <td>ACETATO DE ABIRATERONA</td>\n",
              "      <td>19313.96</td>\n",
              "      <td>17363.46</td>\n",
              "      <td>18788.49</td>\n",
              "      <td>15784.96</td>\n",
              "      <td>19047.58</td>\n",
              "      <td>16735.86</td>\n",
              "      <td>18536.44</td>\n",
              "      <td>19449.95</td>\n",
              "      <td>19587.89</td>\n",
              "      <td>...</td>\n",
              "      <td>16735.86</td>\n",
              "      <td>19449.95</td>\n",
              "      <td>17808.66</td>\n",
              "      <td>NÃ£o</td>\n",
              "      <td>Sim</td>\n",
              "      <td>NÃ£o</td>\n",
              "      <td>NÃ£o</td>\n",
              "      <td>Negativa</td>\n",
              "      <td>Sim</td>\n",
              "      <td>Tarja Vermelha</td>\n",
              "    </tr>\n",
              "    <tr>\n",
              "      <th>4</th>\n",
              "      <td>ACETATO DE BAZEDOXIFENO</td>\n",
              "      <td>111.62</td>\n",
              "      <td>100.35</td>\n",
              "      <td>108.58</td>\n",
              "      <td>91.23</td>\n",
              "      <td>110.09</td>\n",
              "      <td>96.73</td>\n",
              "      <td>107.13</td>\n",
              "      <td>112.40</td>\n",
              "      <td>113.20</td>\n",
              "      <td>...</td>\n",
              "      <td>96.73</td>\n",
              "      <td>112.40</td>\n",
              "      <td>102.92</td>\n",
              "      <td>NÃ£o</td>\n",
              "      <td>NÃ£o</td>\n",
              "      <td>NÃ£o</td>\n",
              "      <td>NÃ£o</td>\n",
              "      <td>Negativa</td>\n",
              "      <td>NÃ£o</td>\n",
              "      <td>'- (*)</td>\n",
              "    </tr>\n",
              "  </tbody>\n",
              "</table>\n",
              "<p>5 rows × 32 columns</p>\n",
              "</div>\n",
              "    <div class=\"colab-df-buttons\">\n",
              "\n",
              "  <div class=\"colab-df-container\">\n",
              "    <button class=\"colab-df-convert\" onclick=\"convertToInteractive('df-f3e11ee5-662a-4a5c-9834-f336cebfbc65')\"\n",
              "            title=\"Convert this dataframe to an interactive table.\"\n",
              "            style=\"display:none;\">\n",
              "\n",
              "  <svg xmlns=\"http://www.w3.org/2000/svg\" height=\"24px\" viewBox=\"0 -960 960 960\">\n",
              "    <path d=\"M120-120v-720h720v720H120Zm60-500h600v-160H180v160Zm220 220h160v-160H400v160Zm0 220h160v-160H400v160ZM180-400h160v-160H180v160Zm440 0h160v-160H620v160ZM180-180h160v-160H180v160Zm440 0h160v-160H620v160Z\"/>\n",
              "  </svg>\n",
              "    </button>\n",
              "\n",
              "  <style>\n",
              "    .colab-df-container {\n",
              "      display:flex;\n",
              "      gap: 12px;\n",
              "    }\n",
              "\n",
              "    .colab-df-convert {\n",
              "      background-color: #E8F0FE;\n",
              "      border: none;\n",
              "      border-radius: 50%;\n",
              "      cursor: pointer;\n",
              "      display: none;\n",
              "      fill: #1967D2;\n",
              "      height: 32px;\n",
              "      padding: 0 0 0 0;\n",
              "      width: 32px;\n",
              "    }\n",
              "\n",
              "    .colab-df-convert:hover {\n",
              "      background-color: #E2EBFA;\n",
              "      box-shadow: 0px 1px 2px rgba(60, 64, 67, 0.3), 0px 1px 3px 1px rgba(60, 64, 67, 0.15);\n",
              "      fill: #174EA6;\n",
              "    }\n",
              "\n",
              "    .colab-df-buttons div {\n",
              "      margin-bottom: 4px;\n",
              "    }\n",
              "\n",
              "    [theme=dark] .colab-df-convert {\n",
              "      background-color: #3B4455;\n",
              "      fill: #D2E3FC;\n",
              "    }\n",
              "\n",
              "    [theme=dark] .colab-df-convert:hover {\n",
              "      background-color: #434B5C;\n",
              "      box-shadow: 0px 1px 3px 1px rgba(0, 0, 0, 0.15);\n",
              "      filter: drop-shadow(0px 1px 2px rgba(0, 0, 0, 0.3));\n",
              "      fill: #FFFFFF;\n",
              "    }\n",
              "  </style>\n",
              "\n",
              "    <script>\n",
              "      const buttonEl =\n",
              "        document.querySelector('#df-f3e11ee5-662a-4a5c-9834-f336cebfbc65 button.colab-df-convert');\n",
              "      buttonEl.style.display =\n",
              "        google.colab.kernel.accessAllowed ? 'block' : 'none';\n",
              "\n",
              "      async function convertToInteractive(key) {\n",
              "        const element = document.querySelector('#df-f3e11ee5-662a-4a5c-9834-f336cebfbc65');\n",
              "        const dataTable =\n",
              "          await google.colab.kernel.invokeFunction('convertToInteractive',\n",
              "                                                    [key], {});\n",
              "        if (!dataTable) return;\n",
              "\n",
              "        const docLinkHtml = 'Like what you see? Visit the ' +\n",
              "          '<a target=\"_blank\" href=https://colab.research.google.com/notebooks/data_table.ipynb>data table notebook</a>'\n",
              "          + ' to learn more about interactive tables.';\n",
              "        element.innerHTML = '';\n",
              "        dataTable['output_type'] = 'display_data';\n",
              "        await google.colab.output.renderOutput(dataTable, element);\n",
              "        const docLink = document.createElement('div');\n",
              "        docLink.innerHTML = docLinkHtml;\n",
              "        element.appendChild(docLink);\n",
              "      }\n",
              "    </script>\n",
              "  </div>\n",
              "\n",
              "\n",
              "<div id=\"df-a9861466-c6fb-4120-a4a6-0bc6204bca9e\">\n",
              "  <button class=\"colab-df-quickchart\" onclick=\"quickchart('df-a9861466-c6fb-4120-a4a6-0bc6204bca9e')\"\n",
              "            title=\"Suggest charts\"\n",
              "            style=\"display:none;\">\n",
              "\n",
              "<svg xmlns=\"http://www.w3.org/2000/svg\" height=\"24px\"viewBox=\"0 0 24 24\"\n",
              "     width=\"24px\">\n",
              "    <g>\n",
              "        <path d=\"M19 3H5c-1.1 0-2 .9-2 2v14c0 1.1.9 2 2 2h14c1.1 0 2-.9 2-2V5c0-1.1-.9-2-2-2zM9 17H7v-7h2v7zm4 0h-2V7h2v10zm4 0h-2v-4h2v4z\"/>\n",
              "    </g>\n",
              "</svg>\n",
              "  </button>\n",
              "\n",
              "<style>\n",
              "  .colab-df-quickchart {\n",
              "      --bg-color: #E8F0FE;\n",
              "      --fill-color: #1967D2;\n",
              "      --hover-bg-color: #E2EBFA;\n",
              "      --hover-fill-color: #174EA6;\n",
              "      --disabled-fill-color: #AAA;\n",
              "      --disabled-bg-color: #DDD;\n",
              "  }\n",
              "\n",
              "  [theme=dark] .colab-df-quickchart {\n",
              "      --bg-color: #3B4455;\n",
              "      --fill-color: #D2E3FC;\n",
              "      --hover-bg-color: #434B5C;\n",
              "      --hover-fill-color: #FFFFFF;\n",
              "      --disabled-bg-color: #3B4455;\n",
              "      --disabled-fill-color: #666;\n",
              "  }\n",
              "\n",
              "  .colab-df-quickchart {\n",
              "    background-color: var(--bg-color);\n",
              "    border: none;\n",
              "    border-radius: 50%;\n",
              "    cursor: pointer;\n",
              "    display: none;\n",
              "    fill: var(--fill-color);\n",
              "    height: 32px;\n",
              "    padding: 0;\n",
              "    width: 32px;\n",
              "  }\n",
              "\n",
              "  .colab-df-quickchart:hover {\n",
              "    background-color: var(--hover-bg-color);\n",
              "    box-shadow: 0 1px 2px rgba(60, 64, 67, 0.3), 0 1px 3px 1px rgba(60, 64, 67, 0.15);\n",
              "    fill: var(--button-hover-fill-color);\n",
              "  }\n",
              "\n",
              "  .colab-df-quickchart-complete:disabled,\n",
              "  .colab-df-quickchart-complete:disabled:hover {\n",
              "    background-color: var(--disabled-bg-color);\n",
              "    fill: var(--disabled-fill-color);\n",
              "    box-shadow: none;\n",
              "  }\n",
              "\n",
              "  .colab-df-spinner {\n",
              "    border: 2px solid var(--fill-color);\n",
              "    border-color: transparent;\n",
              "    border-bottom-color: var(--fill-color);\n",
              "    animation:\n",
              "      spin 1s steps(1) infinite;\n",
              "  }\n",
              "\n",
              "  @keyframes spin {\n",
              "    0% {\n",
              "      border-color: transparent;\n",
              "      border-bottom-color: var(--fill-color);\n",
              "      border-left-color: var(--fill-color);\n",
              "    }\n",
              "    20% {\n",
              "      border-color: transparent;\n",
              "      border-left-color: var(--fill-color);\n",
              "      border-top-color: var(--fill-color);\n",
              "    }\n",
              "    30% {\n",
              "      border-color: transparent;\n",
              "      border-left-color: var(--fill-color);\n",
              "      border-top-color: var(--fill-color);\n",
              "      border-right-color: var(--fill-color);\n",
              "    }\n",
              "    40% {\n",
              "      border-color: transparent;\n",
              "      border-right-color: var(--fill-color);\n",
              "      border-top-color: var(--fill-color);\n",
              "    }\n",
              "    60% {\n",
              "      border-color: transparent;\n",
              "      border-right-color: var(--fill-color);\n",
              "    }\n",
              "    80% {\n",
              "      border-color: transparent;\n",
              "      border-right-color: var(--fill-color);\n",
              "      border-bottom-color: var(--fill-color);\n",
              "    }\n",
              "    90% {\n",
              "      border-color: transparent;\n",
              "      border-bottom-color: var(--fill-color);\n",
              "    }\n",
              "  }\n",
              "</style>\n",
              "\n",
              "  <script>\n",
              "    async function quickchart(key) {\n",
              "      const quickchartButtonEl =\n",
              "        document.querySelector('#' + key + ' button');\n",
              "      quickchartButtonEl.disabled = true;  // To prevent multiple clicks.\n",
              "      quickchartButtonEl.classList.add('colab-df-spinner');\n",
              "      try {\n",
              "        const charts = await google.colab.kernel.invokeFunction(\n",
              "            'suggestCharts', [key], {});\n",
              "      } catch (error) {\n",
              "        console.error('Error during call to suggestCharts:', error);\n",
              "      }\n",
              "      quickchartButtonEl.classList.remove('colab-df-spinner');\n",
              "      quickchartButtonEl.classList.add('colab-df-quickchart-complete');\n",
              "    }\n",
              "    (() => {\n",
              "      let quickchartButtonEl =\n",
              "        document.querySelector('#df-a9861466-c6fb-4120-a4a6-0bc6204bca9e button');\n",
              "      quickchartButtonEl.style.display =\n",
              "        google.colab.kernel.accessAllowed ? 'block' : 'none';\n",
              "    })();\n",
              "  </script>\n",
              "</div>\n",
              "\n",
              "    </div>\n",
              "  </div>\n"
            ],
            "application/vnd.google.colaboratory.intrinsic+json": {
              "type": "dataframe",
              "variable_name": "df"
            }
          },
          "metadata": {},
          "execution_count": 158
        }
      ],
      "source": [
        "# Amostra dos dados\n",
        "df.head()"
      ]
    },
    {
      "cell_type": "code",
      "execution_count": 159,
      "id": "962249af",
      "metadata": {
        "colab": {
          "base_uri": "https://localhost:8080/",
          "height": 498
        },
        "id": "962249af",
        "outputId": "8564cb7a-9e73-43fb-f47a-85ef198d1685"
      },
      "outputs": [
        {
          "output_type": "execute_result",
          "data": {
            "text/plain": [
              "                  ï»¿SUBSTÃNCIA      AL        BA         DF        GO   \\\n",
              "1444               ZANUBRUTINIBE  54571.93  49060.76  53087.22  44600.68   \n",
              "1445  ZINGIBER OFFICINALE ROSCOE     45.83     41.20     44.58     37.45   \n",
              "1446               ZOLMITRIPTANA     73.41     73.41     71.61     66.73   \n",
              "1447                   ZOPICLONA     78.77     78.77     76.85     71.61   \n",
              "1448               ZUCLOPENTIXOL     57.52     57.52     56.13     52.30   \n",
              "\n",
              "           MG        MS        MT        PA        PR   ...        MA   \\\n",
              "1444  53819.28  47287.47  52375.02  54956.21  55345.96  ...   47287.47   \n",
              "1445     45.20     39.70     43.97     46.15     46.47  ...      39.70   \n",
              "1446     72.50     70.75     70.75     73.86     74.33  ...      70.75   \n",
              "1447     77.79     75.92     75.92     79.26     79.77  ...      75.92   \n",
              "1448     56.82     55.45     55.45     57.88     58.26  ...      55.45   \n",
              "\n",
              "            RJ         TO   RESTRIÃÃO HOSPITALAR   CAP  CONFAZ 87  ICMS 0%  \\\n",
              "1444   54956.21   50318.72                    NÃ£o  NÃ£o       NÃ£o     NÃ£o   \n",
              "1445      46.15      42.25                    NÃ£o  NÃ£o       NÃ£o     NÃ£o   \n",
              "1446      73.86      75.29                    NÃ£o  NÃ£o       NÃ£o     NÃ£o   \n",
              "1447      79.26      80.79                    NÃ£o  NÃ£o       NÃ£o     NÃ£o   \n",
              "1448      57.88      59.00                    NÃ£o  NÃ£o       NÃ£o     NÃ£o   \n",
              "\n",
              "      LISTA DE CONCESSÃO DE CRÃDITO TRIBUTÃRIO (PIS/COFINS)  \\\n",
              "1444                                           Negativa          \n",
              "1445                                           Negativa          \n",
              "1446                                           Positiva          \n",
              "1447                                           Positiva          \n",
              "1448                                           Positiva          \n",
              "\n",
              "      COMERCIALIZAÃÃO 2022                           TARJA  \n",
              "1444                     Sim                  Tarja Vermelha  \n",
              "1445                     Sim                 Tarja Sem Tarja  \n",
              "1446                     Sim                  Tarja Vermelha  \n",
              "1447                     Sim  Tarja Vermelha sob restriÃ§Ã£o  \n",
              "1448                     Sim  Tarja Vermelha sob restriÃ§Ã£o  \n",
              "\n",
              "[5 rows x 32 columns]"
            ],
            "text/html": [
              "\n",
              "  <div id=\"df-22bc059a-40f2-4edd-b1aa-6f431b13f565\" class=\"colab-df-container\">\n",
              "    <div>\n",
              "<style scoped>\n",
              "    .dataframe tbody tr th:only-of-type {\n",
              "        vertical-align: middle;\n",
              "    }\n",
              "\n",
              "    .dataframe tbody tr th {\n",
              "        vertical-align: top;\n",
              "    }\n",
              "\n",
              "    .dataframe thead th {\n",
              "        text-align: right;\n",
              "    }\n",
              "</style>\n",
              "<table border=\"1\" class=\"dataframe\">\n",
              "  <thead>\n",
              "    <tr style=\"text-align: right;\">\n",
              "      <th></th>\n",
              "      <th>ï»¿SUBSTÃNCIA</th>\n",
              "      <th>AL</th>\n",
              "      <th>BA</th>\n",
              "      <th>DF</th>\n",
              "      <th>GO</th>\n",
              "      <th>MG</th>\n",
              "      <th>MS</th>\n",
              "      <th>MT</th>\n",
              "      <th>PA</th>\n",
              "      <th>PR</th>\n",
              "      <th>...</th>\n",
              "      <th>MA</th>\n",
              "      <th>RJ</th>\n",
              "      <th>TO</th>\n",
              "      <th>RESTRIÃÃO HOSPITALAR</th>\n",
              "      <th>CAP</th>\n",
              "      <th>CONFAZ 87</th>\n",
              "      <th>ICMS 0%</th>\n",
              "      <th>LISTA DE CONCESSÃO DE CRÃDITO TRIBUTÃRIO (PIS/COFINS)</th>\n",
              "      <th>COMERCIALIZAÃÃO 2022</th>\n",
              "      <th>TARJA</th>\n",
              "    </tr>\n",
              "  </thead>\n",
              "  <tbody>\n",
              "    <tr>\n",
              "      <th>1444</th>\n",
              "      <td>ZANUBRUTINIBE</td>\n",
              "      <td>54571.93</td>\n",
              "      <td>49060.76</td>\n",
              "      <td>53087.22</td>\n",
              "      <td>44600.68</td>\n",
              "      <td>53819.28</td>\n",
              "      <td>47287.47</td>\n",
              "      <td>52375.02</td>\n",
              "      <td>54956.21</td>\n",
              "      <td>55345.96</td>\n",
              "      <td>...</td>\n",
              "      <td>47287.47</td>\n",
              "      <td>54956.21</td>\n",
              "      <td>50318.72</td>\n",
              "      <td>NÃ£o</td>\n",
              "      <td>NÃ£o</td>\n",
              "      <td>NÃ£o</td>\n",
              "      <td>NÃ£o</td>\n",
              "      <td>Negativa</td>\n",
              "      <td>Sim</td>\n",
              "      <td>Tarja Vermelha</td>\n",
              "    </tr>\n",
              "    <tr>\n",
              "      <th>1445</th>\n",
              "      <td>ZINGIBER OFFICINALE ROSCOE</td>\n",
              "      <td>45.83</td>\n",
              "      <td>41.20</td>\n",
              "      <td>44.58</td>\n",
              "      <td>37.45</td>\n",
              "      <td>45.20</td>\n",
              "      <td>39.70</td>\n",
              "      <td>43.97</td>\n",
              "      <td>46.15</td>\n",
              "      <td>46.47</td>\n",
              "      <td>...</td>\n",
              "      <td>39.70</td>\n",
              "      <td>46.15</td>\n",
              "      <td>42.25</td>\n",
              "      <td>NÃ£o</td>\n",
              "      <td>NÃ£o</td>\n",
              "      <td>NÃ£o</td>\n",
              "      <td>NÃ£o</td>\n",
              "      <td>Negativa</td>\n",
              "      <td>Sim</td>\n",
              "      <td>Tarja Sem Tarja</td>\n",
              "    </tr>\n",
              "    <tr>\n",
              "      <th>1446</th>\n",
              "      <td>ZOLMITRIPTANA</td>\n",
              "      <td>73.41</td>\n",
              "      <td>73.41</td>\n",
              "      <td>71.61</td>\n",
              "      <td>66.73</td>\n",
              "      <td>72.50</td>\n",
              "      <td>70.75</td>\n",
              "      <td>70.75</td>\n",
              "      <td>73.86</td>\n",
              "      <td>74.33</td>\n",
              "      <td>...</td>\n",
              "      <td>70.75</td>\n",
              "      <td>73.86</td>\n",
              "      <td>75.29</td>\n",
              "      <td>NÃ£o</td>\n",
              "      <td>NÃ£o</td>\n",
              "      <td>NÃ£o</td>\n",
              "      <td>NÃ£o</td>\n",
              "      <td>Positiva</td>\n",
              "      <td>Sim</td>\n",
              "      <td>Tarja Vermelha</td>\n",
              "    </tr>\n",
              "    <tr>\n",
              "      <th>1447</th>\n",
              "      <td>ZOPICLONA</td>\n",
              "      <td>78.77</td>\n",
              "      <td>78.77</td>\n",
              "      <td>76.85</td>\n",
              "      <td>71.61</td>\n",
              "      <td>77.79</td>\n",
              "      <td>75.92</td>\n",
              "      <td>75.92</td>\n",
              "      <td>79.26</td>\n",
              "      <td>79.77</td>\n",
              "      <td>...</td>\n",
              "      <td>75.92</td>\n",
              "      <td>79.26</td>\n",
              "      <td>80.79</td>\n",
              "      <td>NÃ£o</td>\n",
              "      <td>NÃ£o</td>\n",
              "      <td>NÃ£o</td>\n",
              "      <td>NÃ£o</td>\n",
              "      <td>Positiva</td>\n",
              "      <td>Sim</td>\n",
              "      <td>Tarja Vermelha sob restriÃ§Ã£o</td>\n",
              "    </tr>\n",
              "    <tr>\n",
              "      <th>1448</th>\n",
              "      <td>ZUCLOPENTIXOL</td>\n",
              "      <td>57.52</td>\n",
              "      <td>57.52</td>\n",
              "      <td>56.13</td>\n",
              "      <td>52.30</td>\n",
              "      <td>56.82</td>\n",
              "      <td>55.45</td>\n",
              "      <td>55.45</td>\n",
              "      <td>57.88</td>\n",
              "      <td>58.26</td>\n",
              "      <td>...</td>\n",
              "      <td>55.45</td>\n",
              "      <td>57.88</td>\n",
              "      <td>59.00</td>\n",
              "      <td>NÃ£o</td>\n",
              "      <td>NÃ£o</td>\n",
              "      <td>NÃ£o</td>\n",
              "      <td>NÃ£o</td>\n",
              "      <td>Positiva</td>\n",
              "      <td>Sim</td>\n",
              "      <td>Tarja Vermelha sob restriÃ§Ã£o</td>\n",
              "    </tr>\n",
              "  </tbody>\n",
              "</table>\n",
              "<p>5 rows × 32 columns</p>\n",
              "</div>\n",
              "    <div class=\"colab-df-buttons\">\n",
              "\n",
              "  <div class=\"colab-df-container\">\n",
              "    <button class=\"colab-df-convert\" onclick=\"convertToInteractive('df-22bc059a-40f2-4edd-b1aa-6f431b13f565')\"\n",
              "            title=\"Convert this dataframe to an interactive table.\"\n",
              "            style=\"display:none;\">\n",
              "\n",
              "  <svg xmlns=\"http://www.w3.org/2000/svg\" height=\"24px\" viewBox=\"0 -960 960 960\">\n",
              "    <path d=\"M120-120v-720h720v720H120Zm60-500h600v-160H180v160Zm220 220h160v-160H400v160Zm0 220h160v-160H400v160ZM180-400h160v-160H180v160Zm440 0h160v-160H620v160ZM180-180h160v-160H180v160Zm440 0h160v-160H620v160Z\"/>\n",
              "  </svg>\n",
              "    </button>\n",
              "\n",
              "  <style>\n",
              "    .colab-df-container {\n",
              "      display:flex;\n",
              "      gap: 12px;\n",
              "    }\n",
              "\n",
              "    .colab-df-convert {\n",
              "      background-color: #E8F0FE;\n",
              "      border: none;\n",
              "      border-radius: 50%;\n",
              "      cursor: pointer;\n",
              "      display: none;\n",
              "      fill: #1967D2;\n",
              "      height: 32px;\n",
              "      padding: 0 0 0 0;\n",
              "      width: 32px;\n",
              "    }\n",
              "\n",
              "    .colab-df-convert:hover {\n",
              "      background-color: #E2EBFA;\n",
              "      box-shadow: 0px 1px 2px rgba(60, 64, 67, 0.3), 0px 1px 3px 1px rgba(60, 64, 67, 0.15);\n",
              "      fill: #174EA6;\n",
              "    }\n",
              "\n",
              "    .colab-df-buttons div {\n",
              "      margin-bottom: 4px;\n",
              "    }\n",
              "\n",
              "    [theme=dark] .colab-df-convert {\n",
              "      background-color: #3B4455;\n",
              "      fill: #D2E3FC;\n",
              "    }\n",
              "\n",
              "    [theme=dark] .colab-df-convert:hover {\n",
              "      background-color: #434B5C;\n",
              "      box-shadow: 0px 1px 3px 1px rgba(0, 0, 0, 0.15);\n",
              "      filter: drop-shadow(0px 1px 2px rgba(0, 0, 0, 0.3));\n",
              "      fill: #FFFFFF;\n",
              "    }\n",
              "  </style>\n",
              "\n",
              "    <script>\n",
              "      const buttonEl =\n",
              "        document.querySelector('#df-22bc059a-40f2-4edd-b1aa-6f431b13f565 button.colab-df-convert');\n",
              "      buttonEl.style.display =\n",
              "        google.colab.kernel.accessAllowed ? 'block' : 'none';\n",
              "\n",
              "      async function convertToInteractive(key) {\n",
              "        const element = document.querySelector('#df-22bc059a-40f2-4edd-b1aa-6f431b13f565');\n",
              "        const dataTable =\n",
              "          await google.colab.kernel.invokeFunction('convertToInteractive',\n",
              "                                                    [key], {});\n",
              "        if (!dataTable) return;\n",
              "\n",
              "        const docLinkHtml = 'Like what you see? Visit the ' +\n",
              "          '<a target=\"_blank\" href=https://colab.research.google.com/notebooks/data_table.ipynb>data table notebook</a>'\n",
              "          + ' to learn more about interactive tables.';\n",
              "        element.innerHTML = '';\n",
              "        dataTable['output_type'] = 'display_data';\n",
              "        await google.colab.output.renderOutput(dataTable, element);\n",
              "        const docLink = document.createElement('div');\n",
              "        docLink.innerHTML = docLinkHtml;\n",
              "        element.appendChild(docLink);\n",
              "      }\n",
              "    </script>\n",
              "  </div>\n",
              "\n",
              "\n",
              "<div id=\"df-281d47d7-69ec-4cb0-889d-2d235bc8e309\">\n",
              "  <button class=\"colab-df-quickchart\" onclick=\"quickchart('df-281d47d7-69ec-4cb0-889d-2d235bc8e309')\"\n",
              "            title=\"Suggest charts\"\n",
              "            style=\"display:none;\">\n",
              "\n",
              "<svg xmlns=\"http://www.w3.org/2000/svg\" height=\"24px\"viewBox=\"0 0 24 24\"\n",
              "     width=\"24px\">\n",
              "    <g>\n",
              "        <path d=\"M19 3H5c-1.1 0-2 .9-2 2v14c0 1.1.9 2 2 2h14c1.1 0 2-.9 2-2V5c0-1.1-.9-2-2-2zM9 17H7v-7h2v7zm4 0h-2V7h2v10zm4 0h-2v-4h2v4z\"/>\n",
              "    </g>\n",
              "</svg>\n",
              "  </button>\n",
              "\n",
              "<style>\n",
              "  .colab-df-quickchart {\n",
              "      --bg-color: #E8F0FE;\n",
              "      --fill-color: #1967D2;\n",
              "      --hover-bg-color: #E2EBFA;\n",
              "      --hover-fill-color: #174EA6;\n",
              "      --disabled-fill-color: #AAA;\n",
              "      --disabled-bg-color: #DDD;\n",
              "  }\n",
              "\n",
              "  [theme=dark] .colab-df-quickchart {\n",
              "      --bg-color: #3B4455;\n",
              "      --fill-color: #D2E3FC;\n",
              "      --hover-bg-color: #434B5C;\n",
              "      --hover-fill-color: #FFFFFF;\n",
              "      --disabled-bg-color: #3B4455;\n",
              "      --disabled-fill-color: #666;\n",
              "  }\n",
              "\n",
              "  .colab-df-quickchart {\n",
              "    background-color: var(--bg-color);\n",
              "    border: none;\n",
              "    border-radius: 50%;\n",
              "    cursor: pointer;\n",
              "    display: none;\n",
              "    fill: var(--fill-color);\n",
              "    height: 32px;\n",
              "    padding: 0;\n",
              "    width: 32px;\n",
              "  }\n",
              "\n",
              "  .colab-df-quickchart:hover {\n",
              "    background-color: var(--hover-bg-color);\n",
              "    box-shadow: 0 1px 2px rgba(60, 64, 67, 0.3), 0 1px 3px 1px rgba(60, 64, 67, 0.15);\n",
              "    fill: var(--button-hover-fill-color);\n",
              "  }\n",
              "\n",
              "  .colab-df-quickchart-complete:disabled,\n",
              "  .colab-df-quickchart-complete:disabled:hover {\n",
              "    background-color: var(--disabled-bg-color);\n",
              "    fill: var(--disabled-fill-color);\n",
              "    box-shadow: none;\n",
              "  }\n",
              "\n",
              "  .colab-df-spinner {\n",
              "    border: 2px solid var(--fill-color);\n",
              "    border-color: transparent;\n",
              "    border-bottom-color: var(--fill-color);\n",
              "    animation:\n",
              "      spin 1s steps(1) infinite;\n",
              "  }\n",
              "\n",
              "  @keyframes spin {\n",
              "    0% {\n",
              "      border-color: transparent;\n",
              "      border-bottom-color: var(--fill-color);\n",
              "      border-left-color: var(--fill-color);\n",
              "    }\n",
              "    20% {\n",
              "      border-color: transparent;\n",
              "      border-left-color: var(--fill-color);\n",
              "      border-top-color: var(--fill-color);\n",
              "    }\n",
              "    30% {\n",
              "      border-color: transparent;\n",
              "      border-left-color: var(--fill-color);\n",
              "      border-top-color: var(--fill-color);\n",
              "      border-right-color: var(--fill-color);\n",
              "    }\n",
              "    40% {\n",
              "      border-color: transparent;\n",
              "      border-right-color: var(--fill-color);\n",
              "      border-top-color: var(--fill-color);\n",
              "    }\n",
              "    60% {\n",
              "      border-color: transparent;\n",
              "      border-right-color: var(--fill-color);\n",
              "    }\n",
              "    80% {\n",
              "      border-color: transparent;\n",
              "      border-right-color: var(--fill-color);\n",
              "      border-bottom-color: var(--fill-color);\n",
              "    }\n",
              "    90% {\n",
              "      border-color: transparent;\n",
              "      border-bottom-color: var(--fill-color);\n",
              "    }\n",
              "  }\n",
              "</style>\n",
              "\n",
              "  <script>\n",
              "    async function quickchart(key) {\n",
              "      const quickchartButtonEl =\n",
              "        document.querySelector('#' + key + ' button');\n",
              "      quickchartButtonEl.disabled = true;  // To prevent multiple clicks.\n",
              "      quickchartButtonEl.classList.add('colab-df-spinner');\n",
              "      try {\n",
              "        const charts = await google.colab.kernel.invokeFunction(\n",
              "            'suggestCharts', [key], {});\n",
              "      } catch (error) {\n",
              "        console.error('Error during call to suggestCharts:', error);\n",
              "      }\n",
              "      quickchartButtonEl.classList.remove('colab-df-spinner');\n",
              "      quickchartButtonEl.classList.add('colab-df-quickchart-complete');\n",
              "    }\n",
              "    (() => {\n",
              "      let quickchartButtonEl =\n",
              "        document.querySelector('#df-281d47d7-69ec-4cb0-889d-2d235bc8e309 button');\n",
              "      quickchartButtonEl.style.display =\n",
              "        google.colab.kernel.accessAllowed ? 'block' : 'none';\n",
              "    })();\n",
              "  </script>\n",
              "</div>\n",
              "\n",
              "    </div>\n",
              "  </div>\n"
            ],
            "application/vnd.google.colaboratory.intrinsic+json": {
              "type": "dataframe"
            }
          },
          "metadata": {},
          "execution_count": 159
        }
      ],
      "source": [
        "# Amostra dos dados\n",
        "df.tail()"
      ]
    },
    {
      "cell_type": "markdown",
      "id": "3f0cf95a",
      "metadata": {
        "id": "3f0cf95a"
      },
      "source": [
        "**Análise exploratória**"
      ]
    },
    {
      "cell_type": "code",
      "execution_count": 160,
      "id": "7e4c9a2d",
      "metadata": {
        "colab": {
          "base_uri": "https://localhost:8080/"
        },
        "id": "7e4c9a2d",
        "outputId": "d7f4d291-9349-4dfb-db37-de079942d343"
      },
      "outputs": [
        {
          "output_type": "execute_result",
          "data": {
            "text/plain": [
              "Index(['ï»¿SUBSTÃNCIA', '  AL  ', '  BA  ', '  DF ', '  GO ', '  MG ',\n",
              "       '  MS ', '  MT ', '  PA ', '  PR ', '  RR ', '  RN ', '  RS ', '  SC ',\n",
              "       '  SE ', '  SP ', ' AC ', ' AM ', ' ES ', ' RO ', ' AP ', '  CE ',\n",
              "       '  MA ', '  RJ ', '  TO ', 'RESTRIÃÃO HOSPITALAR', 'CAP', 'CONFAZ 87',\n",
              "       'ICMS 0%', 'LISTA DE CONCESSÃO DE CRÃDITO TRIBUTÃRIO (PIS/COFINS)',\n",
              "       'COMERCIALIZAÃÃO 2022', 'TARJA'],\n",
              "      dtype='object')"
            ]
          },
          "metadata": {},
          "execution_count": 160
        }
      ],
      "source": [
        "# Colunas do conjunto de dados\n",
        "df.columns"
      ]
    },
    {
      "cell_type": "code",
      "execution_count": 161,
      "id": "43e7444e",
      "metadata": {
        "colab": {
          "base_uri": "https://localhost:8080/"
        },
        "id": "43e7444e",
        "outputId": "43e03173-412c-4d01-f387-47f91058a25f"
      },
      "outputs": [
        {
          "output_type": "execute_result",
          "data": {
            "text/plain": [
              "ï»¿SUBSTÃNCIA                                               object\n",
              "  AL                                                        float64\n",
              "  BA                                                        float64\n",
              "  DF                                                        float64\n",
              "  GO                                                        float64\n",
              "  MG                                                        float64\n",
              "  MS                                                        float64\n",
              "  MT                                                        float64\n",
              "  PA                                                        float64\n",
              "  PR                                                        float64\n",
              "  RR                                                         object\n",
              "  RN                                                        float64\n",
              "  RS                                                        float64\n",
              "  SC                                                        float64\n",
              "  SE                                                        float64\n",
              "  SP                                                        float64\n",
              " AC                                                         float64\n",
              " AM                                                         float64\n",
              " ES                                                         float64\n",
              " RO                                                         float64\n",
              " AP                                                         float64\n",
              "  CE                                                         object\n",
              "  MA                                                         object\n",
              "  RJ                                                         object\n",
              "  TO                                                         object\n",
              "RESTRIÃÃO HOSPITALAR                                       object\n",
              "CAP                                                          object\n",
              "CONFAZ 87                                                    object\n",
              "ICMS 0%                                                      object\n",
              "LISTA DE CONCESSÃO DE CRÃDITO TRIBUTÃRIO (PIS/COFINS)     object\n",
              "COMERCIALIZAÃÃO 2022                                       object\n",
              "TARJA                                                        object\n",
              "dtype: object"
            ]
          },
          "metadata": {},
          "execution_count": 161
        }
      ],
      "source": [
        "# Verificando o tipo de dado de cada coluna\n",
        "df.dtypes"
      ]
    },
    {
      "cell_type": "code",
      "execution_count": 187,
      "id": "eec70bba",
      "metadata": {
        "colab": {
          "base_uri": "https://localhost:8080/"
        },
        "id": "eec70bba",
        "outputId": "88938163-7c86-43be-bbf4-a5352f6ce506"
      },
      "outputs": [
        {
          "output_type": "execute_result",
          "data": {
            "text/plain": [
              "count      1449.000000\n",
              "mean       4644.337633\n",
              "std       28476.803206\n",
              "min           1.960000\n",
              "25%          31.950000\n",
              "50%          72.330000\n",
              "75%         378.970000\n",
              "max      827490.230000\n",
              "Name:   GO , dtype: float64"
            ]
          },
          "metadata": {},
          "execution_count": 187
        }
      ],
      "source": [
        "# Resumo estatístico da coluna com o Valor de Venda\n",
        "df['  GO '].describe()"
      ]
    },
    {
      "cell_type": "code",
      "execution_count": 163,
      "id": "b8165a80",
      "metadata": {
        "colab": {
          "base_uri": "https://localhost:8080/",
          "height": 168
        },
        "id": "b8165a80",
        "outputId": "0b08069a-818e-43e6-dfaa-09bb4c54c7b1"
      },
      "outputs": [
        {
          "output_type": "execute_result",
          "data": {
            "text/plain": [
              "Empty DataFrame\n",
              "Columns: [ï»¿SUBSTÃNCIA,   AL  ,   BA  ,   DF ,   GO ,   MG ,   MS ,   MT ,   PA ,   PR ,   RR ,   RN ,   RS ,   SC ,   SE ,   SP ,  AC ,  AM ,  ES ,  RO ,  AP ,   CE ,   MA ,   RJ ,   TO , RESTRIÃÃO HOSPITALAR, CAP, CONFAZ 87, ICMS 0%, LISTA DE CONCESSÃO DE CRÃDITO TRIBUTÃRIO (PIS/COFINS), COMERCIALIZAÃÃO 2022, TARJA]\n",
              "Index: []\n",
              "\n",
              "[0 rows x 32 columns]"
            ],
            "text/html": [
              "\n",
              "  <div id=\"df-80762cda-5ef4-45b8-af0b-bbea6572da68\" class=\"colab-df-container\">\n",
              "    <div>\n",
              "<style scoped>\n",
              "    .dataframe tbody tr th:only-of-type {\n",
              "        vertical-align: middle;\n",
              "    }\n",
              "\n",
              "    .dataframe tbody tr th {\n",
              "        vertical-align: top;\n",
              "    }\n",
              "\n",
              "    .dataframe thead th {\n",
              "        text-align: right;\n",
              "    }\n",
              "</style>\n",
              "<table border=\"1\" class=\"dataframe\">\n",
              "  <thead>\n",
              "    <tr style=\"text-align: right;\">\n",
              "      <th></th>\n",
              "      <th>ï»¿SUBSTÃNCIA</th>\n",
              "      <th>AL</th>\n",
              "      <th>BA</th>\n",
              "      <th>DF</th>\n",
              "      <th>GO</th>\n",
              "      <th>MG</th>\n",
              "      <th>MS</th>\n",
              "      <th>MT</th>\n",
              "      <th>PA</th>\n",
              "      <th>PR</th>\n",
              "      <th>...</th>\n",
              "      <th>MA</th>\n",
              "      <th>RJ</th>\n",
              "      <th>TO</th>\n",
              "      <th>RESTRIÃÃO HOSPITALAR</th>\n",
              "      <th>CAP</th>\n",
              "      <th>CONFAZ 87</th>\n",
              "      <th>ICMS 0%</th>\n",
              "      <th>LISTA DE CONCESSÃO DE CRÃDITO TRIBUTÃRIO (PIS/COFINS)</th>\n",
              "      <th>COMERCIALIZAÃÃO 2022</th>\n",
              "      <th>TARJA</th>\n",
              "    </tr>\n",
              "  </thead>\n",
              "  <tbody>\n",
              "  </tbody>\n",
              "</table>\n",
              "<p>0 rows × 32 columns</p>\n",
              "</div>\n",
              "    <div class=\"colab-df-buttons\">\n",
              "\n",
              "  <div class=\"colab-df-container\">\n",
              "    <button class=\"colab-df-convert\" onclick=\"convertToInteractive('df-80762cda-5ef4-45b8-af0b-bbea6572da68')\"\n",
              "            title=\"Convert this dataframe to an interactive table.\"\n",
              "            style=\"display:none;\">\n",
              "\n",
              "  <svg xmlns=\"http://www.w3.org/2000/svg\" height=\"24px\" viewBox=\"0 -960 960 960\">\n",
              "    <path d=\"M120-120v-720h720v720H120Zm60-500h600v-160H180v160Zm220 220h160v-160H400v160Zm0 220h160v-160H400v160ZM180-400h160v-160H180v160Zm440 0h160v-160H620v160ZM180-180h160v-160H180v160Zm440 0h160v-160H620v160Z\"/>\n",
              "  </svg>\n",
              "    </button>\n",
              "\n",
              "  <style>\n",
              "    .colab-df-container {\n",
              "      display:flex;\n",
              "      gap: 12px;\n",
              "    }\n",
              "\n",
              "    .colab-df-convert {\n",
              "      background-color: #E8F0FE;\n",
              "      border: none;\n",
              "      border-radius: 50%;\n",
              "      cursor: pointer;\n",
              "      display: none;\n",
              "      fill: #1967D2;\n",
              "      height: 32px;\n",
              "      padding: 0 0 0 0;\n",
              "      width: 32px;\n",
              "    }\n",
              "\n",
              "    .colab-df-convert:hover {\n",
              "      background-color: #E2EBFA;\n",
              "      box-shadow: 0px 1px 2px rgba(60, 64, 67, 0.3), 0px 1px 3px 1px rgba(60, 64, 67, 0.15);\n",
              "      fill: #174EA6;\n",
              "    }\n",
              "\n",
              "    .colab-df-buttons div {\n",
              "      margin-bottom: 4px;\n",
              "    }\n",
              "\n",
              "    [theme=dark] .colab-df-convert {\n",
              "      background-color: #3B4455;\n",
              "      fill: #D2E3FC;\n",
              "    }\n",
              "\n",
              "    [theme=dark] .colab-df-convert:hover {\n",
              "      background-color: #434B5C;\n",
              "      box-shadow: 0px 1px 3px 1px rgba(0, 0, 0, 0.15);\n",
              "      filter: drop-shadow(0px 1px 2px rgba(0, 0, 0, 0.3));\n",
              "      fill: #FFFFFF;\n",
              "    }\n",
              "  </style>\n",
              "\n",
              "    <script>\n",
              "      const buttonEl =\n",
              "        document.querySelector('#df-80762cda-5ef4-45b8-af0b-bbea6572da68 button.colab-df-convert');\n",
              "      buttonEl.style.display =\n",
              "        google.colab.kernel.accessAllowed ? 'block' : 'none';\n",
              "\n",
              "      async function convertToInteractive(key) {\n",
              "        const element = document.querySelector('#df-80762cda-5ef4-45b8-af0b-bbea6572da68');\n",
              "        const dataTable =\n",
              "          await google.colab.kernel.invokeFunction('convertToInteractive',\n",
              "                                                    [key], {});\n",
              "        if (!dataTable) return;\n",
              "\n",
              "        const docLinkHtml = 'Like what you see? Visit the ' +\n",
              "          '<a target=\"_blank\" href=https://colab.research.google.com/notebooks/data_table.ipynb>data table notebook</a>'\n",
              "          + ' to learn more about interactive tables.';\n",
              "        element.innerHTML = '';\n",
              "        dataTable['output_type'] = 'display_data';\n",
              "        await google.colab.output.renderOutput(dataTable, element);\n",
              "        const docLink = document.createElement('div');\n",
              "        docLink.innerHTML = docLinkHtml;\n",
              "        element.appendChild(docLink);\n",
              "      }\n",
              "    </script>\n",
              "  </div>\n",
              "\n",
              "\n",
              "    </div>\n",
              "  </div>\n"
            ],
            "application/vnd.google.colaboratory.intrinsic+json": {
              "type": "dataframe"
            }
          },
          "metadata": {},
          "execution_count": 163
        }
      ],
      "source": [
        "# Verificando se há registros duplicados\n",
        "df[df.duplicated()]"
      ]
    },
    {
      "cell_type": "code",
      "execution_count": 164,
      "id": "936d1045",
      "metadata": {
        "colab": {
          "base_uri": "https://localhost:8080/"
        },
        "id": "936d1045",
        "outputId": "aaa04be4-d31e-43eb-fb93-152a0824aec3"
      },
      "outputs": [
        {
          "output_type": "execute_result",
          "data": {
            "text/plain": [
              "ï»¿SUBSTÃNCIA                                              0\n",
              "  AL                                                        0\n",
              "  BA                                                        0\n",
              "  DF                                                        0\n",
              "  GO                                                        0\n",
              "  MG                                                        0\n",
              "  MS                                                        0\n",
              "  MT                                                        0\n",
              "  PA                                                        0\n",
              "  PR                                                        0\n",
              "  RR                                                        0\n",
              "  RN                                                        0\n",
              "  RS                                                        0\n",
              "  SC                                                        0\n",
              "  SE                                                        0\n",
              "  SP                                                        0\n",
              " AC                                                         0\n",
              " AM                                                         0\n",
              " ES                                                         0\n",
              " RO                                                         0\n",
              " AP                                                         0\n",
              "  CE                                                        0\n",
              "  MA                                                        0\n",
              "  RJ                                                        0\n",
              "  TO                                                        0\n",
              "RESTRIÃÃO HOSPITALAR                                      0\n",
              "CAP                                                         0\n",
              "CONFAZ 87                                                   0\n",
              "ICMS 0%                                                     0\n",
              "LISTA DE CONCESSÃO DE CRÃDITO TRIBUTÃRIO (PIS/COFINS)    0\n",
              "COMERCIALIZAÃÃO 2022                                      0\n",
              "TARJA                                                       0\n",
              "dtype: int64"
            ]
          },
          "metadata": {},
          "execution_count": 164
        }
      ],
      "source": [
        "# Verificando de há valores ausentes\n",
        "df.isnull().sum()"
      ]
    },
    {
      "cell_type": "markdown",
      "id": "78c23315",
      "metadata": {
        "id": "78c23315"
      },
      "source": [
        "## **1. Qual o valor do medicamento 'ACETATO DE CIPROTERONA'  no estado de Goiás (GO)?**"
      ]
    },
    {
      "cell_type": "code",
      "execution_count": 188,
      "id": "69296d71",
      "metadata": {
        "id": "69296d71"
      },
      "outputs": [],
      "source": [
        "# Primeiro filtramos o dataframe com os registros do medicamento que desejamos\n",
        "df_p1 = df[df['ï»¿SUBSTÃNCIA'] == 'ACETATO DE CIPROTERONA']"
      ]
    },
    {
      "cell_type": "code",
      "execution_count": 189,
      "id": "3faec6b2",
      "metadata": {
        "id": "3faec6b2",
        "colab": {
          "base_uri": "https://localhost:8080/"
        },
        "outputId": "15ad314f-4368-49a3-d537-1ad41b5043a6"
      },
      "outputs": [
        {
          "output_type": "stream",
          "name": "stdout",
          "text": [
            "ï»¿SUBSTÃNCIA\n",
            "ACETATO DE CIPROTERONA    133.79\n",
            "Name:   GO , dtype: float64\n"
          ]
        }
      ],
      "source": [
        "# Em seguida agrupamos pelo estado e descobrimos o valor do medicamento\n",
        "\n",
        "df_p1_total = df_p1.groupby('ï»¿SUBSTÃNCIA')['  GO '].max()\n",
        "\n",
        "print(df_p1_total)"
      ]
    },
    {
      "cell_type": "code",
      "execution_count": 190,
      "id": "543561e5",
      "metadata": {
        "id": "543561e5",
        "colab": {
          "base_uri": "https://localhost:8080/"
        },
        "outputId": "3be2137f-393b-49a1-c01e-1ed579bc2892"
      },
      "outputs": [
        {
          "output_type": "execute_result",
          "data": {
            "text/plain": [
              "ï»¿SUBSTÃNCIA\n",
              "ACETATO DE CIPROTERONA    133.79\n",
              "Name:   GO , dtype: float64"
            ]
          },
          "metadata": {},
          "execution_count": 190
        }
      ],
      "source": [
        "# Para conferir o resultado\n",
        "df_p1_total.sort_values(ascending = False)"
      ]
    },
    {
      "cell_type": "markdown",
      "id": "b2257a7b",
      "metadata": {
        "id": "b2257a7b"
      },
      "source": [
        "## **2. Qual a quantidade de medicamentos mediante a tarja?**\n",
        "Apresente o resultado em um gráfico de barras."
      ]
    },
    {
      "cell_type": "code",
      "execution_count": 192,
      "id": "df6ed996",
      "metadata": {
        "id": "df6ed996"
      },
      "outputs": [],
      "source": [
        "# Contamos a quantiade de produtos por tarjas\n",
        "df_p2_contagem_tarja = df['TARJA'].value_counts()"
      ]
    },
    {
      "cell_type": "code",
      "execution_count": 193,
      "id": "c5c7c4b1",
      "metadata": {
        "colab": {
          "base_uri": "https://localhost:8080/"
        },
        "id": "c5c7c4b1",
        "outputId": "2cd176c7-84ef-4181-a932-c0381b822a53"
      },
      "outputs": [
        {
          "output_type": "execute_result",
          "data": {
            "text/plain": [
              "TARJA\n",
              "Tarja Vermelha                    603\n",
              "'- (*)                            564\n",
              "Tarja Vermelha sob restriÃ§Ã£o    143\n",
              "Tarja Sem Tarja                   121\n",
              "Tarja Preta                        18\n",
              "Name: count, dtype: int64"
            ]
          },
          "metadata": {},
          "execution_count": 193
        }
      ],
      "source": [
        "df_p2_contagem_tarja.head()"
      ]
    },
    {
      "cell_type": "code",
      "execution_count": 194,
      "id": "d0dddb2a",
      "metadata": {
        "id": "d0dddb2a",
        "outputId": "b49b20b7-3254-4afe-e33e-84ca616b9503",
        "colab": {
          "base_uri": "https://localhost:8080/",
          "height": 675
        }
      },
      "outputs": [
        {
          "output_type": "display_data",
          "data": {
            "text/plain": [
              "<Figure size 800x800 with 1 Axes>"
            ],
            "image/png": "[encoded data removed]"
          },
          "metadata": {}
        }
      ],
      "source": [
        "# Plot\n",
        "plt.figure(figsize = (8, 8))\n",
        "df_p2_contagem_tarja.plot(kind='pie', autopct='%1.1f%%', colors=['red','green', 'blue', 'black'])\n",
        "plt.title('Quantidade de medicamentos de acordo com a Tarja')\n",
        "plt.show()"
      ]
    },
    {
      "cell_type": "markdown",
      "id": "2c27a9db",
      "metadata": {
        "id": "2c27a9db"
      },
      "source": [
        "## **3. Qual a porcentagem de produtos mediante a tarja no estado de Goiás?**\n"
      ]
    },
    {
      "cell_type": "code",
      "execution_count": 197,
      "id": "2187c6b6",
      "metadata": {
        "id": "2187c6b6"
      },
      "outputs": [],
      "source": [
        "# Agrupamos por a quantidade de tarja por estado que no caso é o Goiás\n",
        "df_p3 = df.groupby('TARJA')['  GO '].value_counts().reset_index()"
      ]
    },
    {
      "cell_type": "code",
      "execution_count": 198,
      "id": "000f809e",
      "metadata": {
        "id": "000f809e",
        "outputId": "10078fee-372e-40f6-8fb7-a184dfe4a2f0",
        "colab": {
          "base_uri": "https://localhost:8080/",
          "height": 829
        }
      },
      "outputs": [
        {
          "output_type": "display_data",
          "data": {
            "text/plain": [
              "<Figure size 2000x1000 with 1 Axes>"
            ],
            "image/png": "[encoded data removed]"
          },
          "metadata": {}
        }
      ],
      "source": [
        "# Plot\n",
        "\n",
        "\n",
        "plt.figure(figsize=(20, 10))\n",
        "df_p3['TARJA'].value_counts().plot(kind='pie', autopct='%1.1f%%')\n",
        "plt.title('Distribuição dos produtos em Goiás')\n",
        "plt.ylabel('')\n",
        "plt.show()"
      ]
    },
    {
      "cell_type": "markdown",
      "id": "ac63cfc4",
      "metadata": {
        "id": "ac63cfc4"
      },
      "source": [
        "## **4. Qual o valor total por estado?**\n"
      ]
    },
    {
      "cell_type": "code",
      "execution_count": 181,
      "id": "042ef540",
      "metadata": {
        "id": "042ef540"
      },
      "outputs": [],
      "source": [
        "# Somatatório dos valores dos medicamentos categorizados pelo o estado\n",
        "colunas_numericas = df.select_dtypes(include='number').columns\n",
        "def_p4_soma_colunas_numericas = df[colunas_numericas].sum()\n"
      ]
    },
    {
      "cell_type": "code",
      "execution_count": 183,
      "id": "2398a314",
      "metadata": {
        "id": "2398a314",
        "outputId": "1649e5a6-d737-4c5b-8df5-b88461e8ca89",
        "colab": {
          "base_uri": "https://localhost:8080/"
        }
      },
      "outputs": [
        {
          "output_type": "execute_result",
          "data": {
            "text/plain": [
              "  AL      8138887.56\n",
              "  BA      7402610.74\n",
              "  DF      7919845.64\n",
              "  GO      6729645.23\n",
              "  MG      8027864.04\n",
              "  MS      7135044.44\n",
              "  MT      7814726.50\n",
              "  PA      8195559.78\n",
              "  PR      8253029.99\n",
              "  RN      8082988.16\n",
              "dtype: float64"
            ]
          },
          "metadata": {},
          "execution_count": 183
        }
      ],
      "source": [
        "#Os valores\n",
        "def_p4_soma_colunas_numericas.head(10)"
      ]
    },
    {
      "cell_type": "code",
      "execution_count": 184,
      "id": "b96b6a84",
      "metadata": {
        "id": "b96b6a84",
        "outputId": "65647157-426f-43d4-8a7f-f9cfd1c38bc9",
        "colab": {
          "base_uri": "https://localhost:8080/",
          "height": 586
        }
      },
      "outputs": [
        {
          "output_type": "display_data",
          "data": {
            "text/plain": [
              "<Figure size 1000x600 with 1 Axes>"
            ],
            "image/png": "[encoded data removed]"
          },
          "metadata": {}
        }
      ],
      "source": [
        "# Plot\n",
        "plt.figure(figsize=(10, 6))\n",
        "def_p4_soma_colunas_numericas.plot(kind='bar', color='skyblue')\n",
        "plt.title('Soma dos Valores por Estado')\n",
        "plt.xlabel('Estado')\n",
        "plt.ylabel('Valores Somados')\n",
        "plt.xticks(rotation=45)\n",
        "plt.grid(axis='y', linestyle='--', alpha=0.7)\n",
        "plt.show()"
      ]
    },
    {
      "cell_type": "markdown",
      "id": "4831dc06",
      "metadata": {
        "id": "4831dc06"
      },
      "source": [
        "## **5. Qual o estado cujo o somatório dos preços do produto é o maior?**"
      ]
    },
    {
      "cell_type": "code",
      "execution_count": 199,
      "id": "70c90a68",
      "metadata": {
        "id": "70c90a68",
        "colab": {
          "base_uri": "https://localhost:8080/"
        },
        "outputId": "d548ca14-2bd2-4086-ca48-1f8afc13a803"
      },
      "outputs": [
        {
          "output_type": "stream",
          "name": "stdout",
          "text": [
            "O estado com o maior valor total de medicamentos é  RO , com o valor de 8370453.3100000005\n"
          ]
        }
      ],
      "source": [
        "# Encontrar o estado com o maior valor total de medicamentos\n",
        "estado_maior_valor = def_p4_soma_colunas_numericas.idxmax()\n",
        "\n",
        "# Encontrar o valor correspondente ao estado com o maior valor total de medicamentos\n",
        "maior_valor = def_p4_soma_colunas_numericas.max()\n",
        "\n",
        "# Imprimir o estado com o maior valor total de medicamentos\n",
        "print(f\"O estado com o maior valor total de medicamentos é {estado_maior_valor}, com o valor de {maior_valor}\")"
      ]
    },
    {
      "cell_type": "markdown",
      "id": "8eb0ea56",
      "metadata": {
        "id": "8eb0ea56"
      },
      "source": [
        "## **6.Qual o estado cujo o somatório dos preços do produto é o menor?**"
      ]
    },
    {
      "cell_type": "code",
      "execution_count": 200,
      "id": "a16de64c",
      "metadata": {
        "id": "a16de64c",
        "outputId": "cc44616a-b6dc-41fb-981e-71dae0c780b4",
        "colab": {
          "base_uri": "https://localhost:8080/"
        }
      },
      "outputs": [
        {
          "output_type": "stream",
          "name": "stdout",
          "text": [
            "O estado com o menor valor total de medicamentos é   GO , com o valor de 6729645.2299999995\n"
          ]
        }
      ],
      "source": [
        "# Encontrar o estado com o menor valor total de medicamentos\n",
        "estado_menor_valor = def_p4_soma_colunas_numericas.idxmin()\n",
        "\n",
        "# Encontrar o valor correspondente ao estado com o menor valor total de medicamentos\n",
        "menor_valor = def_p4_soma_colunas_numericas.min()\n",
        "\n",
        "# Imprimir o estado com o menor valor total de medicamentos\n",
        "print(f\"O estado com o menor valor total de medicamentos é {estado_menor_valor}, com o valor de {menor_valor}\")\n"
      ]
    }
  ],
  "metadata": {
    "kernelspec": {
      "display_name": "Python 3 (ipykernel)",
      "language": "python",
      "name": "python3"
    },
    "language_info": {
      "codemirror_mode": {
        "name": "ipython",
        "version": 3
      },
      "file_extension": ".py",
      "mimetype": "text/x-python",
      "name": "python",
      "nbconvert_exporter": "python",
      "pygments_lexer": "ipython3",
      "version": "3.11.7"
    },
    "colab": {
      "provenance": [],
      "include_colab_link": true
    }
  },
  "nbformat": 4,
  "nbformat_minor": 5
}