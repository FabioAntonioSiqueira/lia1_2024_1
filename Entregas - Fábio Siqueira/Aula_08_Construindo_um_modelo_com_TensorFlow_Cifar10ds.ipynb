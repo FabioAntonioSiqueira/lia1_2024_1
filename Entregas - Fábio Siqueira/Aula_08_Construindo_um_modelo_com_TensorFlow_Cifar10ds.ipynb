{
  "nbformat": 4,
  "nbformat_minor": 0,
  "metadata": {
    "colab": {
      "provenance": [],
      "gpuType": "T4",
      "authorship_tag": "ABX9TyOXp9WL4kfzNWGd1Dx9L9wb",
      "include_colab_link": true
    },
    "kernelspec": {
      "name": "python3",
      "display_name": "Python 3"
    },
    "language_info": {
      "name": "python"
    },
    "accelerator": "GPU"
  },
  "cells": [
    {
      "cell_type": "markdown",
      "metadata": {
        "id": "view-in-github",
        "colab_type": "text"
      },
      "source": [
        "<a href=\"https://colab.research.google.com/github/FabioAntonioSiqueira/lia1_2024_1/blob/main/Entregas%20-%20F%C3%A1bio%20Siqueira/Aula_08_Construindo_um_modelo_com_TensorFlow_Cifar10ds.ipynb\" target=\"_parent\"><img src=\"https://colab.research.google.com/assets/colab-badge.svg\" alt=\"Open In Colab\"/></a>"
      ]
    },
    {
      "cell_type": "markdown",
      "source": [
        "\n",
        "Projeto Ponta a Ponta - Construindo um Modelo com Tensorflow - Cifar-10\n",
        "Problema: construir um modelo de Inteligência Artificial capaz de classificar imagens, considerando 10 categorias, sendo: airplane; automobile; bird; cat; deer; dog; frog; horse; ship; truck.\n",
        "\n",
        "Não há mágica. Há matemática! 🧙\n",
        "\n",
        "\n"
      ],
      "metadata": {
        "id": "O1k3M9k37roC"
      }
    },
    {
      "cell_type": "markdown",
      "source": [
        "**Fonte de dados**\n",
        "\n",
        "O conjunto de dados CIFAR-10 consiste em 60.000 imagens coloridas (32x32) em 10 classes, com 6.000 imagens por classe. Existem 50.000 imagens de treinamento e 10.000 imagens de teste."
      ],
      "metadata": {
        "id": "nlboqAtn8AJy"
      }
    },
    {
      "cell_type": "code",
      "source": [
        "# Importando o necessário\n",
        "import tensorflow as tf\n",
        "from tensorflow.keras import datasets, layers, models\n",
        "import matplotlib.pyplot as plt\n",
        "import numpy as np\n",
        "from PIL import Image"
      ],
      "metadata": {
        "id": "6vQ9B5DE7417"
      },
      "execution_count": 2,
      "outputs": []
    },
    {
      "cell_type": "markdown",
      "source": [
        "**Carregando os dados de Treino e Teste**"
      ],
      "metadata": {
        "id": "6Bhjllog8blK"
      }
    },
    {
      "cell_type": "code",
      "source": [
        "# Carrega o dataset CIFAR-10 - Já está no Keras!\n",
        "#(imagens_treino, labels_treino), (imagens_teste, labels_teste) = datasets.cifar100.load_data()\n",
        "(imagens_treino, labels_treino), (imagens_teste, labels_teste) = datasets.fashion_mnist.load_data()"
      ],
      "metadata": {
        "id": "TfsTQoKH7--J",
        "colab": {
          "base_uri": "https://localhost:8080/"
        },
        "outputId": "e892baca-daa6-4679-b984-4d4b6f3c8950"
      },
      "execution_count": 3,
      "outputs": [
        {
          "output_type": "stream",
          "name": "stdout",
          "text": [
            "Downloading data from https://storage.googleapis.com/tensorflow/tf-keras-datasets/train-labels-idx1-ubyte.gz\n",
            "29515/29515 [==============================] - 0s 0us/step\n",
            "Downloading data from https://storage.googleapis.com/tensorflow/tf-keras-datasets/train-images-idx3-ubyte.gz\n",
            "26421880/26421880 [==============================] - 2s 0us/step\n",
            "Downloading data from https://storage.googleapis.com/tensorflow/tf-keras-datasets/t10k-labels-idx1-ubyte.gz\n",
            "5148/5148 [==============================] - 0s 0us/step\n",
            "Downloading data from https://storage.googleapis.com/tensorflow/tf-keras-datasets/t10k-images-idx3-ubyte.gz\n",
            "4422102/4422102 [==============================] - 1s 0us/step\n"
          ]
        }
      ]
    },
    {
      "cell_type": "code",
      "source": [
        "#Classes das imagens\n",
        "#nomes_classes = ['airplane', 'automobile', 'bird', 'cat', 'deer', 'dog', 'frog', 'horse', 'ship', 'truck']\n",
        "nomes_classes = [\n",
        "        'T-shirt',\n",
        "        'Trouser',\n",
        "        'Pullover',\n",
        "        'Dress',\n",
        "        'Coat',\n",
        "        'Sandal',\n",
        "        'Shirt',\n",
        "        'Sneaker',\n",
        "        'Bag',\n",
        "        'Ankle boot'\n",
        "]"
      ],
      "metadata": {
        "id": "tPiXQ6EK8nKr"
      },
      "execution_count": 4,
      "outputs": []
    },
    {
      "cell_type": "markdown",
      "source": [
        "**Pré-processamento**"
      ],
      "metadata": {
        "id": "YGeAOn1U80Hq"
      }
    },
    {
      "cell_type": "code",
      "source": [
        "# Normaliza os valores dos pixels para que os dados fiquem na mesma escala\n",
        "imagens_treino = imagens_treino / 255.0\n",
        "imagens_teste = imagens_teste / 255.0"
      ],
      "metadata": {
        "id": "jzu8eZoP8y2D"
      },
      "execution_count": 5,
      "outputs": []
    },
    {
      "cell_type": "code",
      "source": [
        "# Função para exibir as imagens\n",
        "def visualiza_imagens(images, labels, class_names):\n",
        "    plt.figure(figsize = (10,10))\n",
        "    for i in range(25):\n",
        "        plt.subplot(5, 5, i+1)\n",
        "        plt.xticks([])\n",
        "        plt.yticks([])\n",
        "        plt.grid(False)\n",
        "        plt.imshow(images[i], cmap= plt.cm.binary)\n",
        "        plt.xlabel(nomes_classes[labels[i]])\n",
        "    plt.show()"
      ],
      "metadata": {
        "id": "0DYA54dy8_hj"
      },
      "execution_count": 6,
      "outputs": []
    },
    {
      "cell_type": "code",
      "source": [
        "#Executa a função\n",
        "visualiza_imagens(imagens_treino, labels_treino, nomes_classes)"
      ],
      "metadata": {
        "colab": {
          "base_uri": "https://localhost:8080/",
          "height": 826
        },
        "id": "6dQPmK4a9qXQ",
        "outputId": "1690e08d-6d2d-4ed0-d8bc-f53a3a306049"
      },
      "execution_count": 7,
      "outputs": [
        {
          "output_type": "display_data",
          "data": {
            "text/plain": [
              "<Figure size 1000x1000 with 25 Axes>"
            ],
            "image/png": "[encoded data removed]"
          },
          "metadata": {}
        }
      ]
    },
    {
      "cell_type": "markdown",
      "source": [
        "**Construindo a Rede Neural Convolucional**\n",
        "\n",
        "O Keras é uma biblioteca do TensorFlow."
      ],
      "metadata": {
        "id": "r5RCGMcS929E"
      }
    },
    {
      "cell_type": "code",
      "source": [
        "# Arquitetura do Modelo -> Feature Learning\n",
        "\n",
        "# Cria o objeto de sequência de camadas - do Keras\n",
        "modelo_lia = models.Sequential()\n",
        "\n",
        "# Adiciona a primeira camada de convolução e max pooling (camada de entrada)\n",
        "modelo_lia.add(layers.Conv2D(28, (3, 3), activation = 'relu', input_shape = (28, 28, 1)))\n",
        "modelo_lia.add(layers.MaxPooling2D((2, 2)))\n",
        "\n",
        "# Adiciona a segunda camada de convolução e max pooling (camada intermediária)\n",
        "modelo_lia.add(layers.Conv2D(64, (3, 3), activation = 'relu'))\n",
        "modelo_lia.add(layers.MaxPooling2D((2, 2)))\n",
        "\n",
        "# Adiciona a terceira camada de convolução e max pooling (camada intermediária)\n",
        "modelo_lia.add(layers.Conv2D(64, (3, 3), activation = 'relu'))\n",
        "modelo_lia.add(layers.MaxPooling2D((2, 2)))"
      ],
      "metadata": {
        "id": "a66HoEPr-GfG"
      },
      "execution_count": 8,
      "outputs": []
    },
    {
      "cell_type": "code",
      "source": [
        "# Adicionar camadas de classificação - Converte para um vetor - flatten\n",
        "modelo_lia.add(layers.Flatten())\n",
        "modelo_lia.add(layers.Dense(64, activation = 'relu'))\n",
        "modelo_lia.add(layers.Dense(10, activation = 'softmax'))"
      ],
      "metadata": {
        "id": "fAwwdSm8-UmQ"
      },
      "execution_count": 9,
      "outputs": []
    },
    {
      "cell_type": "code",
      "source": [
        "# Compilação do modelo\n",
        "modelo_lia.compile(optimizer = 'adam',\n",
        "                   loss = 'sparse_categorical_crossentropy',\n",
        "                   metrics = ['accuracy'])\n",
        "\n",
        "# adam - é um algoritmo de aprendizagem tipo backpropagation!\n",
        "# loss - função de erro. Isso se resume a uma otimização função matemática!\n",
        "# metrics - medir o sucesso!"
      ],
      "metadata": {
        "id": "yeyambf7-2pH"
      },
      "execution_count": 10,
      "outputs": []
    },
    {
      "cell_type": "markdown",
      "source": [
        "**Treinamento**"
      ],
      "metadata": {
        "id": "BKPHLVBU_I-o"
      }
    },
    {
      "cell_type": "code",
      "source": [
        "# Executando o treinamento\n",
        "%%time\n",
        "history = modelo_lia.fit(imagens_treino,\n",
        "                         labels_treino,\n",
        "                         epochs = 15,\n",
        "                         validation_data = (imagens_teste, labels_teste))"
      ],
      "metadata": {
        "colab": {
          "base_uri": "https://localhost:8080/"
        },
        "id": "4BIkmEI7_BbX",
        "outputId": "14c6e51b-3c38-42d2-f915-fca587adca01"
      },
      "execution_count": 11,
      "outputs": [
        {
          "output_type": "stream",
          "name": "stdout",
          "text": [
            "Epoch 1/15\n",
            "1875/1875 [==============================] - 13s 4ms/step - loss: 0.5888 - accuracy: 0.7880 - val_loss: 0.4565 - val_accuracy: 0.8391\n",
            "Epoch 2/15\n",
            "1875/1875 [==============================] - 7s 4ms/step - loss: 0.3963 - accuracy: 0.8535 - val_loss: 0.4166 - val_accuracy: 0.8490\n",
            "Epoch 3/15\n",
            "1875/1875 [==============================] - 8s 4ms/step - loss: 0.3415 - accuracy: 0.8738 - val_loss: 0.3542 - val_accuracy: 0.8737\n",
            "Epoch 4/15\n",
            "1875/1875 [==============================] - 7s 4ms/step - loss: 0.3064 - accuracy: 0.8867 - val_loss: 0.3479 - val_accuracy: 0.8709\n",
            "Epoch 5/15\n",
            "1875/1875 [==============================] - 8s 4ms/step - loss: 0.2785 - accuracy: 0.8965 - val_loss: 0.3189 - val_accuracy: 0.8832\n",
            "Epoch 6/15\n",
            "1875/1875 [==============================] - 8s 4ms/step - loss: 0.2559 - accuracy: 0.9041 - val_loss: 0.3102 - val_accuracy: 0.8882\n",
            "Epoch 7/15\n",
            "1875/1875 [==============================] - 8s 4ms/step - loss: 0.2390 - accuracy: 0.9110 - val_loss: 0.3151 - val_accuracy: 0.8848\n",
            "Epoch 8/15\n",
            "1875/1875 [==============================] - 8s 4ms/step - loss: 0.2227 - accuracy: 0.9165 - val_loss: 0.3193 - val_accuracy: 0.8879\n",
            "Epoch 9/15\n",
            "1875/1875 [==============================] - 8s 4ms/step - loss: 0.2074 - accuracy: 0.9229 - val_loss: 0.3216 - val_accuracy: 0.8847\n",
            "Epoch 10/15\n",
            "1875/1875 [==============================] - 7s 4ms/step - loss: 0.1939 - accuracy: 0.9279 - val_loss: 0.3229 - val_accuracy: 0.8881\n",
            "Epoch 11/15\n",
            "1875/1875 [==============================] - 8s 4ms/step - loss: 0.1830 - accuracy: 0.9320 - val_loss: 0.3211 - val_accuracy: 0.8938\n",
            "Epoch 12/15\n",
            "1875/1875 [==============================] - 8s 4ms/step - loss: 0.1730 - accuracy: 0.9342 - val_loss: 0.3253 - val_accuracy: 0.8973\n",
            "Epoch 13/15\n",
            "1875/1875 [==============================] - 7s 4ms/step - loss: 0.1637 - accuracy: 0.9390 - val_loss: 0.3465 - val_accuracy: 0.8901\n",
            "Epoch 14/15\n",
            "1875/1875 [==============================] - 8s 4ms/step - loss: 0.1537 - accuracy: 0.9424 - val_loss: 0.3403 - val_accuracy: 0.8978\n",
            "Epoch 15/15\n",
            "1875/1875 [==============================] - 7s 4ms/step - loss: 0.1466 - accuracy: 0.9458 - val_loss: 0.3995 - val_accuracy: 0.8830\n",
            "CPU times: user 2min 3s, sys: 7.93 s, total: 2min 11s\n",
            "Wall time: 2min\n"
          ]
        }
      ]
    },
    {
      "cell_type": "markdown",
      "source": [
        "**Previsão - Testar o modelo (Deploy)**"
      ],
      "metadata": {
        "id": "bJiyg6vaBrzX"
      }
    },
    {
      "cell_type": "markdown",
      "source": [
        "Testar o modelo treinado com imagens que ele ainda não viu. Por fim, verificamos o resultado da previsão e emitimos a informação sobre a classe."
      ],
      "metadata": {
        "id": "KLlly-vRB3UJ"
      }
    },
    {
      "cell_type": "code",
      "source": [
        "# Carrega uma nova imagem\n",
        "nova_imagem = Image.open(\"/content/camiseta-preta.webp\")\n",
        "\n",
        "# Redimensiona para 28x28 pixels\n",
        "# Converte para escala de cinza\n",
        "nova_imagem = nova_imagem.convert('L')\n",
        "nova_imagem = nova_imagem.resize((28, 28))\n",
        "\n",
        "# Exibir a imagem\n",
        "plt.figure(figsize = (1,1))\n",
        "plt.imshow(nova_imagem, cmap='gray')  # Specify cmap='gray' to display grayscale image\n",
        "plt.xticks([])\n",
        "plt.yticks([])\n",
        "plt.show()"
      ],
      "metadata": {
        "colab": {
          "base_uri": "https://localhost:8080/",
          "height": 114
        },
        "id": "inmm06A4B6bM",
        "outputId": "45c5fbaf-e008-44c3-c908-e995cbe3272f"
      },
      "execution_count": 20,
      "outputs": [
        {
          "output_type": "display_data",
          "data": {
            "text/plain": [
              "<Figure size 100x100 with 1 Axes>"
            ],
            "image/png": "[encoded data removed]"
          },
          "metadata": {}
        }
      ]
    },
    {
      "cell_type": "code",
      "source": [
        "#Converte a imagem para um array NumPy e normaliza\n",
        "nova_imagem_array = np.array(nova_imagem) / 255.0"
      ],
      "metadata": {
        "id": "Gq-cUhD-CrQ2"
      },
      "execution_count": 21,
      "outputs": []
    },
    {
      "cell_type": "code",
      "source": [
        "# Expande a dimensão do array para que ele tenha o formato (1, 32, 32, 3)\n",
        "nova_imagem_array = np.expand_dims(nova_imagem_array, axis = 0)"
      ],
      "metadata": {
        "id": "EJariwYCCv_d"
      },
      "execution_count": 22,
      "outputs": []
    },
    {
      "cell_type": "code",
      "source": [
        "# Fazendo a previsão!\n",
        "previsoes = modelo_lia.predict(nova_imagem_array)"
      ],
      "metadata": {
        "colab": {
          "base_uri": "https://localhost:8080/"
        },
        "id": "laTB_rpHC7NZ",
        "outputId": "ee228ee7-c2bc-44e3-f1f1-06a6485621f2"
      },
      "execution_count": 23,
      "outputs": [
        {
          "output_type": "stream",
          "name": "stdout",
          "text": [
            "1/1 [==============================] - 0s 235ms/step\n"
          ]
        }
      ]
    },
    {
      "cell_type": "code",
      "source": [
        "print(previsoes)"
      ],
      "metadata": {
        "colab": {
          "base_uri": "https://localhost:8080/"
        },
        "id": "ibn5plxUDAUs",
        "outputId": "b0dfb351-9307-4d01-ac3c-d22bd77f6002"
      },
      "execution_count": 24,
      "outputs": [
        {
          "output_type": "stream",
          "name": "stdout",
          "text": [
            "[[2.2514775e-01 6.8693942e-01 2.4511058e-02 9.6035546e-10 1.8874474e-04\n",
            "  8.8334974e-07 9.9434927e-03 2.5578982e-08 5.3268678e-02 1.7484096e-11]]\n"
          ]
        }
      ]
    },
    {
      "cell_type": "code",
      "source": [
        "from google.colab import drive\n",
        "drive.mount('/content/drive')"
      ],
      "metadata": {
        "colab": {
          "base_uri": "https://localhost:8080/"
        },
        "id": "4K8VU6foFZwD",
        "outputId": "91464ceb-3843-46b4-ec54-ca7e367a15db"
      },
      "execution_count": 25,
      "outputs": [
        {
          "output_type": "stream",
          "name": "stdout",
          "text": [
            "Mounted at /content/drive\n"
          ]
        }
      ]
    },
    {
      "cell_type": "code",
      "source": [
        "#Obtém a classe com maior probabilidade e o nome da classe\n",
        "classe_prevista = np.argmax(previsoes)\n",
        "nome_classe_prevista = nomes_classes[classe_prevista]"
      ],
      "metadata": {
        "id": "jL9HVo2kEPO6"
      },
      "execution_count": 26,
      "outputs": []
    },
    {
      "cell_type": "code",
      "source": [
        "print(\"A nova imagem foi classificada como:\", nome_classe_prevista)"
      ],
      "metadata": {
        "id": "BovPNF_WEdHe"
      },
      "execution_count": null,
      "outputs": []
    }
  ]
}